{
 "cells": [
  {
   "cell_type": "code",
   "execution_count": 29,
   "metadata": {},
   "outputs": [],
   "source": [
    "import pandas as pd\n",
    "import matplotlib.pyplot as plt\n",
    "import seaborn as sns\n",
    "%matplotlib inline\n",
    "import numpy as np\n",
    "from sklearn.model_selection import train_test_split\n",
    "from sklearn.neighbors import KNeighborsClassifier"
   ]
  },
  {
   "cell_type": "markdown",
   "metadata": {},
   "source": [
    "Upon importing the data, we can extract some useful information for the analysis."
   ]
  },
  {
   "cell_type": "code",
   "execution_count": 30,
   "metadata": {},
   "outputs": [
    {
     "name": "stdout",
     "output_type": "stream",
     "text": [
      "<class 'pandas.core.frame.DataFrame'>\n",
      "RangeIndex: 150 entries, 0 to 149\n",
      "Data columns (total 5 columns):\n",
      "sepal length    150 non-null float64\n",
      "sepal width     150 non-null float64\n",
      "petal length    150 non-null float64\n",
      "petal width     150 non-null float64\n",
      "class           150 non-null object\n",
      "dtypes: float64(4), object(1)\n",
      "memory usage: 6.0+ KB\n"
     ]
    },
    {
     "data": {
      "text/html": [
       "<div>\n",
       "<style scoped>\n",
       "    .dataframe tbody tr th:only-of-type {\n",
       "        vertical-align: middle;\n",
       "    }\n",
       "\n",
       "    .dataframe tbody tr th {\n",
       "        vertical-align: top;\n",
       "    }\n",
       "\n",
       "    .dataframe thead th {\n",
       "        text-align: right;\n",
       "    }\n",
       "</style>\n",
       "<table border=\"1\" class=\"dataframe\">\n",
       "  <thead>\n",
       "    <tr style=\"text-align: right;\">\n",
       "      <th></th>\n",
       "      <th>sepal length</th>\n",
       "      <th>sepal width</th>\n",
       "      <th>petal length</th>\n",
       "      <th>petal width</th>\n",
       "      <th>class</th>\n",
       "    </tr>\n",
       "  </thead>\n",
       "  <tbody>\n",
       "    <tr>\n",
       "      <td>0</td>\n",
       "      <td>5.1</td>\n",
       "      <td>3.5</td>\n",
       "      <td>1.4</td>\n",
       "      <td>0.2</td>\n",
       "      <td>Iris-setosa</td>\n",
       "    </tr>\n",
       "    <tr>\n",
       "      <td>1</td>\n",
       "      <td>4.9</td>\n",
       "      <td>3.0</td>\n",
       "      <td>1.4</td>\n",
       "      <td>0.2</td>\n",
       "      <td>Iris-setosa</td>\n",
       "    </tr>\n",
       "    <tr>\n",
       "      <td>2</td>\n",
       "      <td>4.7</td>\n",
       "      <td>3.2</td>\n",
       "      <td>1.3</td>\n",
       "      <td>0.2</td>\n",
       "      <td>Iris-setosa</td>\n",
       "    </tr>\n",
       "    <tr>\n",
       "      <td>3</td>\n",
       "      <td>4.6</td>\n",
       "      <td>3.1</td>\n",
       "      <td>1.5</td>\n",
       "      <td>0.2</td>\n",
       "      <td>Iris-setosa</td>\n",
       "    </tr>\n",
       "    <tr>\n",
       "      <td>4</td>\n",
       "      <td>5.0</td>\n",
       "      <td>3.6</td>\n",
       "      <td>1.4</td>\n",
       "      <td>0.2</td>\n",
       "      <td>Iris-setosa</td>\n",
       "    </tr>\n",
       "  </tbody>\n",
       "</table>\n",
       "</div>"
      ],
      "text/plain": [
       "   sepal length  sepal width  petal length  petal width        class\n",
       "0           5.1          3.5           1.4          0.2  Iris-setosa\n",
       "1           4.9          3.0           1.4          0.2  Iris-setosa\n",
       "2           4.7          3.2           1.3          0.2  Iris-setosa\n",
       "3           4.6          3.1           1.5          0.2  Iris-setosa\n",
       "4           5.0          3.6           1.4          0.2  Iris-setosa"
      ]
     },
     "execution_count": 30,
     "metadata": {},
     "output_type": "execute_result"
    }
   ],
   "source": [
    "iris = pd.read_csv('iris.data', sep=',', \n",
    "                   header=None,\n",
    "                   names=['sepal length','sepal width','petal length','petal width','class'])\n",
    "\n",
    "iris.info() #class is an onject type, everything else is float; 150 entries\n",
    "iris.isnull().values.any() #no missing values\n",
    "iris.describe() #basic stats of the data\n",
    "iris.head() #displays the first 5 entries"
   ]
  },
  {
   "cell_type": "markdown",
   "metadata": {},
   "source": [
    "We can prepare 2 scatter plots: sepal_width vs sepal_length and petal_width vs petal_length. \n",
    "Scatter plots show each class in different color."
   ]
  },
  {
   "cell_type": "code",
   "execution_count": 31,
   "metadata": {},
   "outputs": [
    {
     "data": {
      "text/plain": [
       "Text(0.5, 1, 'Sepal Width VS Sepal Length')"
      ]
     },
     "execution_count": 31,
     "metadata": {},
     "output_type": "execute_result"
    },
    {
     "data": {
      "image/png": "[encoded data removed]",
      "text/plain": [
       "<Figure size 463.5x360 with 1 Axes>"
      ]
     },
     "metadata": {
      "needs_background": "light"
     },
     "output_type": "display_data"
    }
   ],
   "source": [
    "scar1 = sns.lmplot(x= 'sepal width', y= 'sepal length', data = iris, hue= 'class')\n",
    "plt.title('Sepal Width VS Sepal Length')"
   ]
  },
  {
   "cell_type": "code",
   "execution_count": 32,
   "metadata": {},
   "outputs": [
    {
     "data": {
      "text/plain": [
       "Text(0.5, 1, 'Petal Width VS Petal Length')"
      ]
     },
     "execution_count": 32,
     "metadata": {},
     "output_type": "execute_result"
    },
    {
     "data": {
      "image/png": "[encoded data removed]",
      "text/plain": [
       "<Figure size 463.5x360 with 1 Axes>"
      ]
     },
     "metadata": {
      "needs_background": "light"
     },
     "output_type": "display_data"
    }
   ],
   "source": [
    "scar2 = sns.lmplot(x= 'petal width', y= 'petal length', data = iris, hue= 'class')\n",
    "plt.title('Petal Width VS Petal Length')"
   ]
  },
  {
   "cell_type": "markdown",
   "metadata": {},
   "source": [
    "Prepareing the data for classification using the pandas operators for the feature variables X and the response Y for the fit."
   ]
  },
  {
   "cell_type": "code",
   "execution_count": 33,
   "metadata": {},
   "outputs": [],
   "source": [
    "iris_class = {'Iris-setosa':0, 'Iris-versicolor':1, 'Iris-virginica':2}\n",
    "iris['species num'] = [iris_class[i] for i in iris['class']]\n",
    "#mapped the iris classes to the numbers:0, 1, 2\n",
    "\n",
    "X = iris.drop(['class', 'species num'], axis=1)\n",
    "y = iris['species num']\n",
    "\n",
    "X_train, X_test, y_train, y_test = train_test_split(X, y)"
   ]
  },
  {
   "cell_type": "markdown",
   "metadata": {},
   "source": [
    "Run the fit using KNeighborsClassifier from sklearn.neighbors:"
   ]
  },
  {
   "cell_type": "code",
   "execution_count": 34,
   "metadata": {},
   "outputs": [
    {
     "data": {
      "text/plain": [
       "KNeighborsClassifier(algorithm='auto', leaf_size=30, metric='minkowski',\n",
       "                     metric_params=None, n_jobs=None, n_neighbors=5, p=2,\n",
       "                     weights='uniform')"
      ]
     },
     "execution_count": 34,
     "metadata": {},
     "output_type": "execute_result"
    }
   ],
   "source": [
    "model = KNeighborsClassifier()\n",
    "model.fit(X_train, y_train)"
   ]
  },
  {
   "cell_type": "markdown",
   "metadata": {},
   "source": [
    "Useing learning model to predict the class from features, we try to predict X from the test part:"
   ]
  },
  {
   "cell_type": "code",
   "execution_count": 35,
   "metadata": {},
   "outputs": [
    {
     "data": {
      "text/plain": [
       "array([2, 1, 1, 0, 2, 2, 0, 1, 2, 1, 2, 1, 0, 0, 2, 1, 0, 1, 1, 2, 1, 2,\n",
       "       0, 2, 0, 1, 1, 2, 1, 0, 2, 0, 1, 2, 1, 0, 0, 1], dtype=int64)"
      ]
     },
     "execution_count": 35,
     "metadata": {},
     "output_type": "execute_result"
    }
   ],
   "source": [
    "x_predict = model.predict(X_test)\n",
    "x_predict"
   ]
  },
  {
   "cell_type": "markdown",
   "metadata": {},
   "source": [
    "We can get the accuracy score of the prediction by comparing predicted iris classes and the Y values from the test. This leads us to get a score of approximatley 97% (upon running it once; the value will change upon running it again)."
   ]
  },
  {
   "cell_type": "code",
   "execution_count": 36,
   "metadata": {},
   "outputs": [
    {
     "data": {
      "text/plain": [
       "0.9736842105263158"
      ]
     },
     "execution_count": 36,
     "metadata": {},
     "output_type": "execute_result"
    }
   ],
   "source": [
    "model.score(X_test, y_test)"
   ]
  },
  {
   "cell_type": "markdown",
   "metadata": {},
   "source": [
    "We want to see how accuracy score and the number of correct predictions change with the number of neighbors, k. We will use the following number of neighbors k: 1, 3, 5, 7, 10, 20, 30, 40, and 50.\n",
    "\n",
    "Generateing 10 random train/test splits for each value of k:"
   ]
  },
  {
   "cell_type": "code",
   "execution_count": 37,
   "metadata": {},
   "outputs": [],
   "source": [
    "#k=1:\n",
    "X1_train, X1_test, y1_train, y1_test = train_test_split(X, y, test_size= 10, train_size = 10)\n",
    "\n",
    "#k=3:\n",
    "X3_train, X3_test, y3_train, y3_test = train_test_split(X, y, test_size= 10, train_size = 10)\n",
    "\n",
    "#k=5:\n",
    "X5_train, X5_test, y5_train, y5_test = train_test_split(X, y, test_size= 10, train_size = 10)\n",
    "\n",
    "#k=7:\n",
    "X7_train, X7_test, y7_train, y7_test = train_test_split(X, y, test_size= 10, train_size = 10)\n",
    "\n",
    "#k=10:\n",
    "X10_train, X10_test, y10_train, y10_test = train_test_split(X, y, test_size= 10, train_size = 10)\n",
    "\n",
    "#from here I had to change the train/test size to match the neighbours as part b would not work properly\n",
    "#because number of neighbours > test/train size\n",
    "\n",
    "#k=20:\n",
    "X20_train, X20_test, y20_train, y20_test = train_test_split(X, y, test_size= 20, train_size = 20)\n",
    "\n",
    "#k=30:\n",
    "X30_train, X30_test, y30_train, y30_test = train_test_split(X, y, test_size= 30, train_size = 30)\n",
    "\n",
    "#k=40:\n",
    "X40_train, X40_test, y40_train, y40_test = train_test_split(X, y, test_size= 40, train_size = 40)\n",
    "\n",
    "#k=50:\n",
    "X50_train, X50_test, y50_train, y50_test = train_test_split(X, y, test_size= 50, train_size = 50)"
   ]
  },
  {
   "cell_type": "markdown",
   "metadata": {},
   "source": [
    "Fit the model for each split and generate predictions:"
   ]
  },
  {
   "cell_type": "code",
   "execution_count": 38,
   "metadata": {},
   "outputs": [
    {
     "data": {
      "text/plain": [
       "array([2, 2, 2, 2, 2, 2, 2, 2, 2, 2, 2, 2, 2, 2, 2, 2, 2, 2, 2, 2, 2, 2,\n",
       "       2, 2, 2, 2, 2, 2, 2, 2, 2, 2, 2, 2, 2, 2, 2, 2, 2, 2, 2, 2, 2, 2,\n",
       "       2, 2, 2, 2, 2, 2], dtype=int64)"
      ]
     },
     "execution_count": 38,
     "metadata": {},
     "output_type": "execute_result"
    }
   ],
   "source": [
    "#k=1:\n",
    "model_1 = KNeighborsClassifier(n_neighbors=1)\n",
    "model_1.fit(X1_train, y1_train)\n",
    "model_1.predict(X1_test)\n",
    "\n",
    "#k=3:\n",
    "model_3 = KNeighborsClassifier(n_neighbors=3)\n",
    "model_3.fit(X3_train, y3_train)\n",
    "model_3.predict(X3_test)\n",
    "\n",
    "#k=5:\n",
    "model_5 = KNeighborsClassifier(n_neighbors=5)\n",
    "model_5.fit(X5_train, y5_train)\n",
    "model_5.predict(X5_test)\n",
    "\n",
    "#k=7:\n",
    "model_7 = KNeighborsClassifier(n_neighbors=7)\n",
    "model_7.fit(X7_train, y7_train)\n",
    "model_7.predict(X7_test)\n",
    "\n",
    "#k=10:\n",
    "model_10 = KNeighborsClassifier(n_neighbors=10)\n",
    "model_10.fit(X10_train, y10_train)\n",
    "model_10.predict(X10_test)\n",
    "\n",
    "#k=20:\n",
    "model_20 = KNeighborsClassifier(n_neighbors=20)\n",
    "model_20.fit(X20_train, y20_train)\n",
    "model_20.predict(X20_test)\n",
    "\n",
    "#k=30:\n",
    "model_30 = KNeighborsClassifier(n_neighbors=30)\n",
    "model_30.fit(X30_train, y30_train)\n",
    "model_30.predict(X30_test)\n",
    "\n",
    "#k=40:\n",
    "model_40 = KNeighborsClassifier(n_neighbors=40)\n",
    "model_40.fit(X40_train, y40_train)\n",
    "model_40.predict(X40_test)\n",
    "\n",
    "#k=50:\n",
    "model_50 = KNeighborsClassifier(n_neighbors=50)\n",
    "model_50.fit(X50_train, y50_train)\n",
    "model_50.predict(X50_test)"
   ]
  },
  {
   "cell_type": "markdown",
   "metadata": {},
   "source": [
    "Now we can get the average the accuracy score for each k:"
   ]
  },
  {
   "cell_type": "code",
   "execution_count": 39,
   "metadata": {},
   "outputs": [
    {
     "data": {
      "text/plain": [
       "0.24"
      ]
     },
     "execution_count": 39,
     "metadata": {},
     "output_type": "execute_result"
    }
   ],
   "source": [
    "#k=1:\n",
    "score_1 = model_1.score(X1_test, y1_test)\n",
    "score_1 \n",
    "\n",
    "#k=3:\n",
    "score_3 = model_3.score(X3_test, y3_test)\n",
    "score_3 \n",
    "\n",
    "#k=5:\n",
    "score_5 = model_5.score(X5_test, y5_test)\n",
    "score_5 \n",
    "\n",
    "#k=7:\n",
    "score_7 = model_7.score(X7_test, y7_test)\n",
    "score_7 \n",
    "\n",
    "#k=10:\n",
    "score_10 = model_10.score(X10_test, y10_test)\n",
    "score_10 \n",
    "\n",
    "#k=20:\n",
    "score_20 = model_20.score(X20_test, y20_test)\n",
    "score_20 \n",
    "\n",
    "#k=30:\n",
    "score_30 = model_30.score(X30_test, y30_test)\n",
    "score_30 \n",
    "\n",
    "#k=40:\n",
    "score_40 = model_40.score(X40_test, y40_test)\n",
    "score_40\n",
    "\n",
    "#k=50:\n",
    "score_50 = model_50.score(X50_test, y50_test)\n",
    "score_50 "
   ]
  },
  {
   "cell_type": "markdown",
   "metadata": {},
   "source": [
    "And the average number of correct predictions for each k as well:"
   ]
  },
  {
   "cell_type": "code",
   "execution_count": 40,
   "metadata": {},
   "outputs": [
    {
     "data": {
      "text/plain": [
       "11     False\n",
       "126     True\n",
       "89     False\n",
       "105     True\n",
       "120     True\n",
       "12     False\n",
       "51     False\n",
       "130     True\n",
       "53     False\n",
       "26     False\n",
       "22     False\n",
       "23     False\n",
       "124     True\n",
       "76     False\n",
       "38     False\n",
       "101     True\n",
       "19     False\n",
       "118     True\n",
       "77     False\n",
       "123     True\n",
       "137     True\n",
       "56     False\n",
       "20     False\n",
       "133     True\n",
       "40     False\n",
       "7      False\n",
       "49     False\n",
       "25     False\n",
       "59     False\n",
       "39     False\n",
       "93     False\n",
       "94     False\n",
       "60     False\n",
       "58     False\n",
       "10     False\n",
       "72     False\n",
       "44     False\n",
       "71     False\n",
       "18     False\n",
       "45     False\n",
       "1      False\n",
       "47     False\n",
       "15     False\n",
       "63     False\n",
       "32     False\n",
       "33     False\n",
       "73     False\n",
       "74     False\n",
       "149     True\n",
       "144     True\n",
       "Name: species num, dtype: bool"
      ]
     },
     "execution_count": 40,
     "metadata": {},
     "output_type": "execute_result"
    }
   ],
   "source": [
    "#k=1: \n",
    "model_1.predict(X1_test) == y1_test #10/10\n",
    "\n",
    "#k=3:\n",
    "model_3.predict(X3_test) == y3_test #9/10\n",
    "\n",
    "#k=5:\n",
    "model_5.predict(X5_test) == y5_test #6/10\n",
    "\n",
    "#k=7:\n",
    "model_7.predict(X7_test) == y7_test #7/10\n",
    "\n",
    "#k=10:\n",
    "model_10.predict(X10_test) == y10_test #1/20\n",
    "\n",
    "#k=20:\n",
    "model_20.predict(X20_test) == y20_test #5/20\n",
    "\n",
    "#k=30:\n",
    "model_30.predict(X30_test) == y30_test #10/30\n",
    "\n",
    "#k=40:\n",
    "model_40.predict(X40_test) == y40_test #6/40\n",
    "\n",
    "#k=50:\n",
    "model_50.predict(X50_test) == y50_test #15/50\n",
    "\n",
    "# **** THESE ARE THE FRACTIONS I GOT UPON MY LAST RUN OF THE MODEL, WITH EACH RUN THE NUMBERS CHANGE SLIGHTLY; \n",
    "#THUS THE OVERALL GRAPH ALSO CHANGES ****"
   ]
  },
  {
   "cell_type": "markdown",
   "metadata": {},
   "source": [
    "Composing the differnet accuracy scores into a Series for easy viewing, and then plotting them we can gather some conclusions."
   ]
  },
  {
   "cell_type": "code",
   "execution_count": 41,
   "metadata": {},
   "outputs": [
    {
     "data": {
      "text/plain": [
       "0    1.000\n",
       "1    0.900\n",
       "2    0.600\n",
       "3    0.700\n",
       "4    0.300\n",
       "5    0.450\n",
       "6    0.400\n",
       "7    0.425\n",
       "8    0.240\n",
       "dtype: float64"
      ]
     },
     "execution_count": 41,
     "metadata": {},
     "output_type": "execute_result"
    }
   ],
   "source": [
    "df1 = pd.Series([score_1, score_3, score_5, score_7, score_10, score_20, score_30, score_40, score_50]) \n",
    "df1"
   ]
  },
  {
   "cell_type": "code",
   "execution_count": 42,
   "metadata": {},
   "outputs": [
    {
     "data": {
      "text/plain": [
       "Text(0, 0.5, 'Accuracy Score')"
      ]
     },
     "execution_count": 42,
     "metadata": {},
     "output_type": "execute_result"
    },
    {
     "data": {
      "image/png": "[encoded data removed]",
      "text/plain": [
       "<Figure size 432x288 with 1 Axes>"
      ]
     },
     "metadata": {
      "needs_background": "light"
     },
     "output_type": "display_data"
    }
   ],
   "source": [
    "df1.plot(kind = 'line', title = 'Accuracy Scores of Different Values of K', grid = True)\n",
    "plt.xlabel(\"Indicies of each K's score\")\n",
    "plt.ylabel('Accuracy Score')"
   ]
  },
  {
   "cell_type": "markdown",
   "metadata": {},
   "source": [
    "Based off the graph we can conclude that as k (the number of neighbours) increases, the accuracy decreases (this is the general trend observed no matter how many times the model was run and the accuracy scores changed)."
   ]
  },
  {
   "cell_type": "code",
   "execution_count": null,
   "metadata": {},
   "outputs": [],
   "source": []
  }
 ],
 "metadata": {
  "kernelspec": {
   "display_name": "Python 3",
   "language": "python",
   "name": "python3"
  },
  "language_info": {
   "codemirror_mode": {
    "name": "ipython",
    "version": 3
   },
   "file_extension": ".py",
   "mimetype": "text/x-python",
   "name": "python",
   "nbconvert_exporter": "python",
   "pygments_lexer": "ipython3",
   "version": "3.7.4"
  }
 },
 "nbformat": 4,
 "nbformat_minor": 2
}
